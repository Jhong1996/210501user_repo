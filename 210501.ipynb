{
 "cells": [
  {
   "cell_type": "markdown",
   "metadata": {
    "collapsed": false
   },
   "source": [
    "# 飞桨常规赛：量子电路合成 - 5月第2名方案"
   ]
  },
  {
   "cell_type": "markdown",
   "metadata": {
    "collapsed": false
   },
   "source": [
    "## 比赛介绍\n",
    "量子电路合成是量子计算中十分重要的问题，对于实现量子计算机有指导意义。本次比赛以量子电路合成为题，旨在让参赛者了解并掌握如何使用给定量子门集合来高效的近似合成目标量子门，加深对量子计算的认识。  \n",
    "  \n",
    "详细介绍：[https://aistudio.baidu.com/aistudio/competition/detail/70](https://aistudio.baidu.com/aistudio/competition/detail/70)"
   ]
  },
  {
   "cell_type": "markdown",
   "metadata": {
    "collapsed": false
   },
   "source": [
    "### 赛题分析\n",
    "> 比赛包含六道题目，其中前四题为基础题 (满分分别为 1 分，2 分，3分，10 分)，第五题为进阶题 (满分为 25 分)，第六题为挑战题 (满分为 60 分)  \n",
    "  \n",
    "从题目类型上看，可以分为两类:\n",
    "- 给定结构求解电路参数(前三题)\n",
    "- 不定结构分解电路以及参数求解(后三题)  \n",
    "\n",
    "对于第一类，我们可以使用[量桨](https://qml.baidu.com/)搭建给定结构电路，并使用[飞桨](https://www.paddlepaddle.org.cn/)求解参数  \n",
    "第二类难度提升，需要先求(cai)解(ce)出结构，然后使用第一类方法求解参数"
   ]
  },
  {
   "cell_type": "markdown",
   "metadata": {
    "collapsed": false
   },
   "source": [
    "## 解题思路  \n",
    "对于第一类问题，参照量桨的[快速入门](http://https://qml.baidu.com/quick-start/quantum-neural-network.html)可以搭建出指定结构的量子电路，然后是求解参数。  \n",
    "评分机制使用的是**量子门保真度**函数$F(U,V) = \\left| {{\\mathop{\\rm Tr}\\nolimits} \\left( {U \\times {V^T}} \\right)} \\right|/{2^n}$，于是可以使用$1 - F(U,V)$作为loss来优化参数\n",
    "  \n",
    "对于第二类问题，评分机制为$量子门保真度+量子电路复杂度$，问题变为**使用尽可能少的量子门搭建保真度高的量子电路**。  \n",
    "对此，我联想到神经网络的万能近似定理，是不是也有一种量子电路结构可以近似任意量子电路呢？  \n",
    "- 思路1: 仿照神经网络，使用控制门将所有的量子比特连接起来，形成网一样的结构  \n",
    "![](https://ai-studio-static-online.cdn.bcebos.com/52899b5f2c714d249cb9b554bf56656e41831038b8584ce982488ff1dc37aa19)\n",
    "  \n",
    "- 思路2: 使用优化方法找到最优结构  \n",
    "最先想到的是神经网络的方法，奈何旋转门和控制门正交，即单个控制门作用无法用旋转门替代，此路不通，尝试用其他方法  \n",
    "第4题只有3个量子比特，可以使用暴力搜索的方法找到最优值，于是可以使用它来测试其他方法  \n",
    "目前还没有探索出找到最优解的方法"
   ]
  },
  {
   "cell_type": "markdown",
   "metadata": {
    "collapsed": false
   },
   "source": [
    "## 具体方案"
   ]
  },
  {
   "cell_type": "markdown",
   "metadata": {
    "collapsed": false
   },
   "source": [
    "### 准备环境\n",
    "- 安装量桨\n",
    "- 解压试题\n",
    "- 导入所需包"
   ]
  },
  {
   "cell_type": "code",
   "execution_count": null,
   "metadata": {
    "collapsed": false
   },
   "outputs": [
    {
     "name": "stdout",
     "output_type": "stream",
     "text": [
      "Looking in indexes: https://mirror.baidu.com/pypi/simple/\n",
      "Collecting paddle-quantum\n",
      "\u001b[?25l  Downloading https://mirror.baidu.com/pypi/packages/70/b8/e4ebb37fce904aa7ad194b26fec6f7c39edec6349dc0970ec5df4ae200f9/paddle_quantum-2.1.0-py3-none-any.whl (72kB)\n",
      "\u001b[K     |████████████████████████████████| 81kB 13.7MB/s eta 0:00:01\n",
      "\u001b[?25hRequirement already satisfied: tqdm in /opt/conda/envs/python35-paddle120-env/lib/python3.7/site-packages (from paddle-quantum) (4.36.1)\n",
      "Collecting paddlepaddle>=2.0.1 (from paddle-quantum)\n",
      "\u001b[?25l  Downloading https://mirror.baidu.com/pypi/packages/2a/12/273ec0cdf3164e610aa197425cfcaffcd4b32aa2b7a29ba628b5f29e95c9/paddlepaddle-2.1.0-cp37-cp37m-manylinux1_x86_64.whl (108.8MB)\n",
      "\u001b[K     |████████████████████████████████| 108.8MB 7.1MB/s eta 0:00:01\n",
      "\u001b[?25hRequirement already satisfied: scipy in /opt/conda/envs/python35-paddle120-env/lib/python3.7/site-packages (from paddle-quantum) (1.6.3)\n",
      "Collecting networkx>=2.5 (from paddle-quantum)\n",
      "\u001b[?25l  Downloading https://mirror.baidu.com/pypi/packages/f3/b7/c7f488101c0bb5e4178f3cde416004280fd40262433496830de8a8c21613/networkx-2.5.1-py3-none-any.whl (1.6MB)\n",
      "\u001b[K     |████████████████████████████████| 1.6MB 62.1MB/s eta 0:00:01\n",
      "\u001b[?25hCollecting interval (from paddle-quantum)\n",
      "  Downloading https://mirror.baidu.com/pypi/packages/b3/2d/b337afbd232ea1ea9c38401135054bf763e7930ea5e2e49bc39af35c3443/interval-1.0.0.tar.bz2\n",
      "Requirement already satisfied: matplotlib in /opt/conda/envs/python35-paddle120-env/lib/python3.7/site-packages (from paddle-quantum) (2.2.3)\n",
      "Requirement already satisfied: numpy>=1.13; python_version >= \"3.5\" and platform_system != \"Windows\" in /opt/conda/envs/python35-paddle120-env/lib/python3.7/site-packages (from paddlepaddle>=2.0.1->paddle-quantum) (1.20.3)\n",
      "Requirement already satisfied: astor in /opt/conda/envs/python35-paddle120-env/lib/python3.7/site-packages (from paddlepaddle>=2.0.1->paddle-quantum) (0.8.1)\n",
      "Requirement already satisfied: gast>=0.3.3; platform_system != \"Windows\" in /opt/conda/envs/python35-paddle120-env/lib/python3.7/site-packages (from paddlepaddle>=2.0.1->paddle-quantum) (0.3.3)\n",
      "Requirement already satisfied: decorator==4.4.2 in /opt/conda/envs/python35-paddle120-env/lib/python3.7/site-packages (from paddlepaddle>=2.0.1->paddle-quantum) (4.4.2)\n",
      "Requirement already satisfied: six in /opt/conda/envs/python35-paddle120-env/lib/python3.7/site-packages (from paddlepaddle>=2.0.1->paddle-quantum) (1.15.0)\n",
      "Requirement already satisfied: Pillow in /opt/conda/envs/python35-paddle120-env/lib/python3.7/site-packages (from paddlepaddle>=2.0.1->paddle-quantum) (7.1.2)\n",
      "Requirement already satisfied: protobuf>=3.1.0 in /opt/conda/envs/python35-paddle120-env/lib/python3.7/site-packages (from paddlepaddle>=2.0.1->paddle-quantum) (3.14.0)\n",
      "Requirement already satisfied: requests>=2.20.0 in /opt/conda/envs/python35-paddle120-env/lib/python3.7/site-packages (from paddlepaddle>=2.0.1->paddle-quantum) (2.22.0)\n",
      "Requirement already satisfied: pytz in /opt/conda/envs/python35-paddle120-env/lib/python3.7/site-packages (from matplotlib->paddle-quantum) (2019.3)\n",
      "Requirement already satisfied: cycler>=0.10 in /opt/conda/envs/python35-paddle120-env/lib/python3.7/site-packages (from matplotlib->paddle-quantum) (0.10.0)\n",
      "Requirement already satisfied: kiwisolver>=1.0.1 in /opt/conda/envs/python35-paddle120-env/lib/python3.7/site-packages (from matplotlib->paddle-quantum) (1.1.0)\n",
      "Requirement already satisfied: python-dateutil>=2.1 in /opt/conda/envs/python35-paddle120-env/lib/python3.7/site-packages (from matplotlib->paddle-quantum) (2.8.0)\n",
      "Requirement already satisfied: pyparsing!=2.0.4,!=2.1.2,!=2.1.6,>=2.0.1 in /opt/conda/envs/python35-paddle120-env/lib/python3.7/site-packages (from matplotlib->paddle-quantum) (2.4.2)\n",
      "Requirement already satisfied: idna<2.9,>=2.5 in /opt/conda/envs/python35-paddle120-env/lib/python3.7/site-packages (from requests>=2.20.0->paddlepaddle>=2.0.1->paddle-quantum) (2.8)\n",
      "Requirement already satisfied: certifi>=2017.4.17 in /opt/conda/envs/python35-paddle120-env/lib/python3.7/site-packages (from requests>=2.20.0->paddlepaddle>=2.0.1->paddle-quantum) (2019.9.11)\n",
      "Requirement already satisfied: urllib3!=1.25.0,!=1.25.1,<1.26,>=1.21.1 in /opt/conda/envs/python35-paddle120-env/lib/python3.7/site-packages (from requests>=2.20.0->paddlepaddle>=2.0.1->paddle-quantum) (1.25.6)\n",
      "Requirement already satisfied: chardet<3.1.0,>=3.0.2 in /opt/conda/envs/python35-paddle120-env/lib/python3.7/site-packages (from requests>=2.20.0->paddlepaddle>=2.0.1->paddle-quantum) (3.0.4)\n",
      "Requirement already satisfied: setuptools in /opt/conda/envs/python35-paddle120-env/lib/python3.7/site-packages (from kiwisolver>=1.0.1->matplotlib->paddle-quantum) (56.2.0)\n",
      "Building wheels for collected packages: interval\n",
      "  Building wheel for interval (setup.py) ... \u001b[?25ldone\n",
      "\u001b[?25h  Created wheel for interval: filename=interval-1.0.0-cp37-none-any.whl size=14267 sha256=6a8496623cda1cb0222fa94d949120c29928f0b8ef50303291a71ca85c53eee6\n",
      "  Stored in directory: /home/aistudio/.cache/pip/wheels/aa/fd/f0/28a65289ea3a10ea744cfe6d2393605383772be2ab2b75967e\n",
      "Successfully built interval\n",
      "Installing collected packages: paddlepaddle, networkx, interval, paddle-quantum\n",
      "  Found existing installation: networkx 2.4\n",
      "    Uninstalling networkx-2.4:\n",
      "      Successfully uninstalled networkx-2.4\n",
      "Successfully installed interval-1.0.0 networkx-2.5.1 paddle-quantum-2.1.0 paddlepaddle-2.1.0\n"
     ]
    }
   ],
   "source": [
    "!pip install paddle-quantum"
   ]
  },
  {
   "cell_type": "code",
   "execution_count": null,
   "metadata": {
    "collapsed": false
   },
   "outputs": [],
   "source": [
    "!unzip -oq /home/aistudio/data/data71784/飞桨常规赛：量子电路合成.zip -d ~/data/\r\n",
    "!mv ~/data/飞桨常规赛：量子电路合成 ~/data/target"
   ]
  },
  {
   "cell_type": "code",
   "execution_count": null,
   "metadata": {
    "collapsed": false
   },
   "outputs": [
    {
     "name": "stderr",
     "output_type": "stream",
     "text": [
      "/opt/conda/envs/python35-paddle120-env/lib/python3.7/site-packages/matplotlib/__init__.py:107: DeprecationWarning: Using or importing the ABCs from 'collections' instead of from 'collections.abc' is deprecated, and in 3.8 it will stop working\n",
      "  from collections import MutableMapping\n",
      "/opt/conda/envs/python35-paddle120-env/lib/python3.7/site-packages/matplotlib/rcsetup.py:20: DeprecationWarning: Using or importing the ABCs from 'collections' instead of from 'collections.abc' is deprecated, and in 3.8 it will stop working\n",
      "  from collections import Iterable, Mapping\n",
      "/opt/conda/envs/python35-paddle120-env/lib/python3.7/site-packages/matplotlib/colors.py:53: DeprecationWarning: Using or importing the ABCs from 'collections' instead of from 'collections.abc' is deprecated, and in 3.8 it will stop working\n",
      "  from collections import Sized\n"
     ]
    }
   ],
   "source": [
    "import numpy as np\n",
    "import paddle\n",
    "from paddle_quantum.circuit import UAnsatz"
   ]
  },
  {
   "cell_type": "markdown",
   "metadata": {
    "collapsed": false
   },
   "source": [
    "### 基于量桨的量子电路类\n",
    "为了方便计算损失函数、计算电路复杂度和输出结果，定义`MyCircuit`类"
   ]
  },
  {
   "cell_type": "code",
   "execution_count": null,
   "metadata": {
    "collapsed": false
   },
   "outputs": [],
   "source": [
    "class MyCircuit(UAnsatz):\n",
    "\n",
    "    def gate_fidelity(self, target):\n",
    "        a = self.U\n",
    "        b = target\n",
    "        a = paddle.cast(a, 'float64')\n",
    "        a.stop_gradient = False\n",
    "        b = paddle.cast(b, 'float64')\n",
    "        b.stop_gradient = False\n",
    "        c = paddle.fluid.layers.matmul(a, b, transpose_y=True)\n",
    "        trace = paddle.trace(c)\n",
    "        return paddle.abs(trace) / 2**self.n\n",
    "    \n",
    "    @property\n",
    "    def complexity(self):\n",
    "        c = 0\n",
    "        for g, _, _ in self._UAnsatz__history:\n",
    "            if g == 'u':\n",
    "                c += 1\n",
    "            elif g == 'CNOT':\n",
    "                c += 8\n",
    "        return c\n",
    "    \n",
    "    def output(self, path):\n",
    "        history = []\n",
    "        for g, w, p in self._UAnsatz__history:\n",
    "            if g == 'ry':\n",
    "                theta = p[0]\n",
    "                if hasattr(p[0], 'numpy'):\n",
    "                    theta = p[0].numpy()[0]                    \n",
    "                history.append('R %d %f\\n' % (w[0], np.mod(theta, 2 * np.pi)))\n",
    "            elif g == 'CNOT':\n",
    "                history.append('C %d %d\\n' % tuple(w))\n",
    "            else:\n",
    "                raise OSError('未知的门`%s`' % g)\n",
    "        with open(path, 'w') as f:\n",
    "                for i in history:\n",
    "                    f.write(i)"
   ]
  },
  {
   "cell_type": "markdown",
   "metadata": {
    "collapsed": false
   },
   "source": [
    "### 基于飞桨的自动优化器\n",
    "使用飞桨动态图求解给定结构量子电路`circuit`参数，目标酉矩阵$U$定义为`target_tensor`"
   ]
  },
  {
   "cell_type": "code",
   "execution_count": null,
   "metadata": {
    "collapsed": false
   },
   "outputs": [],
   "source": [
    "class Net(paddle.nn.Layer):\r\n",
    "    def __init__(self, n, p, dtype=\"float64\"):\r\n",
    "        super(Net, self).__init__()\r\n",
    "        self.n = n\r\n",
    "        self.theta = self.create_parameter(shape=[p], \r\n",
    "                                           default_initializer=paddle.nn.initializer.Uniform(low=-np.pi/2, high=np.pi/2),\r\n",
    "                                           dtype=dtype, is_bias=False)\r\n",
    "    def forward(self):\r\n",
    "        cir = circuit(self.theta)\r\n",
    "        loss = 1 - cir.gate_fidelity(target_tensor)\r\n",
    "        return loss, cir"
   ]
  },
  {
   "cell_type": "code",
   "execution_count": null,
   "metadata": {
    "collapsed": false
   },
   "outputs": [],
   "source": [
    "class Optimizer:\r\n",
    "    def __init__(self, net, learning_rate):\r\n",
    "        scheduler = paddle.optimizer.lr.CosineAnnealingDecay(learning_rate=LR, T_max=100, eta_min=1e-3, last_epoch=99, verbose=False)\r\n",
    "        opt = paddle.optimizer.Adam(learning_rate=scheduler, parameters=net.parameters())\r\n",
    "        self.net = net\r\n",
    "        self.scheduler = scheduler\r\n",
    "        self.opt = opt\r\n",
    "\r\n",
    "    def train(self, max_iters=600, log_iter=50, threshold=1e-8, display=True):\r\n",
    "        last = 1\r\n",
    "        for itr in range(1, max_iters + 1):\r\n",
    "            loss, cir = self.net()\r\n",
    "            loss.backward()\r\n",
    "            self.opt.minimize(loss)\r\n",
    "            self.opt.clear_grad()\r\n",
    "            self.scheduler.step()\r\n",
    "            if itr % log_iter == 0:\r\n",
    "                l = loss.numpy()[0]\r\n",
    "                if display:\r\n",
    "                    print(\"iter:\", \"%3d\" % itr, \"  loss:\", \"%.4f\" % l, \"%.2e\" % (l - last))\r\n",
    "                if abs(l - last) < threshold:\r\n",
    "                    break\r\n",
    "                last = l\r\n",
    "        return last"
   ]
  },
  {
   "cell_type": "markdown",
   "metadata": {
    "collapsed": false
   },
   "source": [
    "### 第一题 单量子比特门近似"
   ]
  },
  {
   "cell_type": "code",
   "execution_count": null,
   "metadata": {
    "collapsed": false
   },
   "outputs": [],
   "source": [
    "n = 1 #单量子比特电路\r\n",
    "target = 1 / 2**0.5 * np.array([[1, -1], [1, 1]]) #目标酉矩阵\r\n",
    "target_tensor = paddle.to_tensor(target) #转化为tensor\r\n",
    "LR = 0.1 #学习率\r\n",
    "ITR = 1000 #最大迭代次数\r\n",
    "\r\n",
    "#定义电路结构\r\n",
    "def circuit(theta):\r\n",
    "    cir = MyCircuit(n)\r\n",
    "    cir.ry(theta[0], 0) #单个旋转门\r\n",
    "    return cir"
   ]
  },
  {
   "cell_type": "code",
   "execution_count": null,
   "metadata": {
    "collapsed": false
   },
   "outputs": [
    {
     "name": "stderr",
     "output_type": "stream",
     "text": [
      "/opt/conda/envs/python35-paddle120-env/lib/python3.7/site-packages/paddle/fluid/framework.py:689: DeprecationWarning: `np.bool` is a deprecated alias for the builtin `bool`. To silence this warning, use `bool` by itself. Doing this will not modify any behavior and is safe. If you specifically wanted the numpy scalar type, use `np.bool_` here.\n",
      "Deprecated in NumPy 1.20; for more details and guidance: https://numpy.org/devdocs/release/1.20.0-notes.html#deprecations\n",
      "  elif dtype == np.bool:\n",
      "/opt/conda/envs/python35-paddle120-env/lib/python3.7/site-packages/paddle/tensor/creation.py:125: DeprecationWarning: `np.object` is a deprecated alias for the builtin `object`. To silence this warning, use `object` by itself. Doing this will not modify any behavior and is safe. \n",
      "Deprecated in NumPy 1.20; for more details and guidance: https://numpy.org/devdocs/release/1.20.0-notes.html#deprecations\n",
      "  if data.dtype == np.object:\n"
     ]
    },
    {
     "name": "stdout",
     "output_type": "stream",
     "text": [
      "iter:  50   loss: 0.0075 -9.93e-01\n",
      "iter: 100   loss: 0.0001 -7.34e-03\n",
      "iter: 150   loss: 0.0000 -1.41e-04\n",
      "iter: 200   loss: 0.0000 -6.12e-07\n",
      "iter: 250   loss: 0.0000 -1.17e-10\n",
      "iter: 300   loss: 0.0000 -5.40e-12\n",
      "iter: 350   loss: 0.0000 -6.88e-15\n",
      "iter: 400   loss: 0.0000 -1.11e-16\n",
      "优化后的参数 theta:\n",
      " [1.57079633]\n"
     ]
    }
   ],
   "source": [
    "net = Net(n, 1) #定义网络\r\n",
    "opt = Optimizer(net, LR) #定义自动优化器\r\n",
    "opt.train(ITR, threshold=1e-15) #优化参数\r\n",
    "\r\n",
    "theta_opt = net.theta.numpy() #优化好的参数\r\n",
    "print(\"优化后的参数 theta:\\n\", theta_opt)\r\n",
    "\r\n",
    "cir = circuit(net.theta) #将优化好的参数加载到量子电路中\r\n",
    "cir.output('Question_1_Answer.txt') #输出结果到文件"
   ]
  },
  {
   "cell_type": "markdown",
   "metadata": {
    "collapsed": false
   },
   "source": [
    "### 第二题 双量子比特门分解"
   ]
  },
  {
   "cell_type": "code",
   "execution_count": null,
   "metadata": {
    "collapsed": false
   },
   "outputs": [],
   "source": [
    "n = 2\r\n",
    "target = np.loadtxt('/home/aistudio/data/target/Question_2_Unitary.txt') #读取目标实数酉矩阵U\r\n",
    "target_tensor = paddle.to_tensor(target)\r\n",
    "LR = 0.05\r\n",
    "ITR = 1000\r\n",
    "\r\n",
    "def circuit(theta):\r\n",
    "    cir = MyCircuit(n)\r\n",
    "    cir.ry(theta[0], 0)\r\n",
    "    cir.ry(theta[1], 1)\r\n",
    "    cir.cnot([0, 1])\r\n",
    "    cir.ry(theta[2], 0)\r\n",
    "    cir.ry(theta[3], 1)\r\n",
    "    return cir"
   ]
  },
  {
   "cell_type": "code",
   "execution_count": null,
   "metadata": {
    "collapsed": false
   },
   "outputs": [
    {
     "name": "stdout",
     "output_type": "stream",
     "text": [
      "iter:  50   loss: 0.4692 -5.31e-01\n",
      "iter: 100   loss: 0.0034 -4.66e-01\n",
      "iter: 150   loss: 0.0000 -3.34e-03\n",
      "iter: 200   loss: 0.0000 -1.82e-05\n",
      "iter: 250   loss: 0.0000 -2.35e-06\n",
      "iter: 300   loss: 0.0000 -8.36e-08\n",
      "iter: 350   loss: 0.0000 -1.36e-09\n",
      "iter: 400   loss: 0.0000 -2.64e-12\n",
      "iter: 450   loss: 0.0000 -1.92e-13\n",
      "iter: 500   loss: 0.0000 -3.33e-16\n",
      "优化后的参数 theta:\n",
      " [-0.43582512  0.79511961 -2.79500593  0.42428991]\n"
     ]
    }
   ],
   "source": [
    "net = Net(n, 4)\r\n",
    "opt = Optimizer(net, LR)\r\n",
    "opt.train(ITR, threshold=1e-15)\r\n",
    "\r\n",
    "theta_opt = net.theta.numpy()\r\n",
    "print(\"优化后的参数 theta:\\n\", theta_opt)\r\n",
    "\r\n",
    "cir = circuit(net.theta)\r\n",
    "cir.output('Question_2_Answer.txt')"
   ]
  },
  {
   "cell_type": "markdown",
   "metadata": {
    "collapsed": false
   },
   "source": [
    "### 第三题 三量子比特门分解"
   ]
  },
  {
   "cell_type": "code",
   "execution_count": null,
   "metadata": {
    "collapsed": false
   },
   "outputs": [],
   "source": [
    "n = 3\r\n",
    "target = np.loadtxt('/home/aistudio/data/target/Question_3_Unitary.txt')\r\n",
    "target_tensor = paddle.to_tensor(target)\r\n",
    "LR = 0.02\r\n",
    "ITR = 1000\r\n",
    "\r\n",
    "def circuit(theta):\r\n",
    "    # 初始化 n 个量子比特的量子电路\r\n",
    "    cir = MyCircuit(n)\r\n",
    "    cir.ry(theta[0], 0)\r\n",
    "    cir.ry(theta[1], 1)\r\n",
    "    cir.ry(theta[2], 2)\r\n",
    "    cir.cnot([0, 1])\r\n",
    "    cir.cnot([1, 2])\r\n",
    "    cir.ry(theta[3], 0)\r\n",
    "    cir.ry(theta[4], 2)\r\n",
    "    return cir"
   ]
  },
  {
   "cell_type": "code",
   "execution_count": null,
   "metadata": {
    "collapsed": false
   },
   "outputs": [
    {
     "name": "stdout",
     "output_type": "stream",
     "text": [
      "iter:  50   loss: 0.7453 -2.55e-01\n",
      "iter: 100   loss: 0.2235 -5.22e-01\n",
      "iter: 150   loss: 0.0351 -1.88e-01\n",
      "iter: 200   loss: 0.0204 -1.48e-02\n",
      "iter: 250   loss: 0.0120 -8.40e-03\n",
      "iter: 300   loss: 0.0007 -1.12e-02\n",
      "iter: 350   loss: 0.0000 -7.26e-04\n",
      "iter: 400   loss: 0.0000 -9.48e-06\n",
      "iter: 450   loss: 0.0000 -3.29e-06\n",
      "iter: 500   loss: 0.0000 -2.76e-06\n",
      "iter: 550   loss: 0.0000 -2.54e-08\n",
      "iter: 600   loss: 0.0000 -6.69e-11\n",
      "iter: 650   loss: 0.0000 -2.95e-11\n",
      "iter: 700   loss: 0.0000 -1.66e-11\n",
      "iter: 750   loss: 0.0000 1.33e-15\n",
      "iter: 800   loss: 0.0000 -9.99e-16\n",
      "优化后的参数 theta:\n",
      " [-2.30239562 -1.78154508 -0.33809543 -1.46190544  1.98867992]\n"
     ]
    }
   ],
   "source": [
    "net = Net(n, 5)\r\n",
    "opt = Optimizer(net, LR)\r\n",
    "opt.train(ITR, threshold=1e-15)\r\n",
    "\r\n",
    "theta_opt = net.theta.numpy()\r\n",
    "print(\"优化后的参数 theta:\\n\", theta_opt)\r\n",
    "\r\n",
    "cir = circuit(net.theta)\r\n",
    "cir.output('Question_3_Answer.txt')"
   ]
  },
  {
   "cell_type": "markdown",
   "metadata": {
    "collapsed": false
   },
   "source": [
    "### 可变量子电路类\n",
    "为了便于尝试不同的电路结构，定义可变量子电路类  \n",
    "给定控制门参数和位置，使用类似如下**旋转门-控制门-旋转门**的结构生成电路  \n",
    "![](https://ai-studio-static-online.cdn.bcebos.com/abdaf603505e4e9e887bfbc2e4b64f7f18a265bdd27f45a1a316de8eecd599cd)\n"
   ]
  },
  {
   "cell_type": "code",
   "execution_count": null,
   "metadata": {
    "collapsed": false
   },
   "outputs": [],
   "source": [
    "class VariableCircuit(MyCircuit):\r\n",
    "    def __init__(self, n, theta, controls=[]):\r\n",
    "        super().__init__(n)\r\n",
    "        self.controls = controls\r\n",
    "        self.init(theta)\r\n",
    "\r\n",
    "    def init(self, theta):\r\n",
    "        offset = 0\r\n",
    "        for i in range(self.n):\r\n",
    "            self.ry(theta[offset+i], i)\r\n",
    "        offset += self.n\r\n",
    "\r\n",
    "        for a, b in self.controls:\r\n",
    "            self.cnot([a, b])\r\n",
    "            self.ry(theta[offset+0], a)\r\n",
    "            self.ry(theta[offset+1], b)\r\n",
    "            offset += 2\r\n",
    "        self.params_size = offset"
   ]
  },
  {
   "cell_type": "markdown",
   "metadata": {
    "collapsed": false
   },
   "source": [
    "### 第四题 三量子比特门无结构分解\n",
    "基于思路2，目前还没有找到又快又准的搜索方法"
   ]
  },
  {
   "cell_type": "code",
   "execution_count": null,
   "metadata": {
    "collapsed": false
   },
   "outputs": [],
   "source": [
    "n = 3\r\n",
    "target = np.loadtxt('/home/aistudio/data/target/Question_4_Unitary.txt')\r\n",
    "target_tensor = paddle.to_tensor(target)\r\n",
    "LR = 1\r\n",
    "ITR = 5000"
   ]
  },
  {
   "cell_type": "code",
   "execution_count": null,
   "metadata": {
    "collapsed": false
   },
   "outputs": [
    {
     "name": "stdout",
     "output_type": "stream",
     "text": [
      "40\n",
      "iter:  50   loss: 0.3471 -6.53e-01\n",
      "iter: 100   loss: 0.0580 -2.89e-01\n",
      "iter: 150   loss: 0.0522 -5.81e-03\n",
      "iter: 200   loss: 0.0522 -2.59e-05\n",
      "iter: 250   loss: 0.0522 -1.65e-08\n",
      "iter: 300   loss: 0.0526 4.19e-04\n",
      "iter: 350   loss: 0.0522 -4.14e-04\n",
      "iter: 400   loss: 0.0522 -4.38e-06\n",
      "iter: 450   loss: 0.0522 -3.28e-08\n",
      "iter: 500   loss: 0.0522 -3.15e-09\n",
      "iter: 550   loss: 0.0522 -4.36e-11\n",
      "iter: 600   loss: 0.0522 -8.84e-14\n",
      "iter: 650   loss: 0.0522 -1.11e-16\n",
      "iter: 700   loss: 0.0522 3.30e-07\n",
      "iter: 750   loss: 0.0527 4.96e-04\n",
      "iter: 800   loss: 0.0522 -4.96e-04\n",
      "iter: 850   loss: 0.0522 -6.84e-07\n",
      "iter: 900   loss: 0.0522 -6.58e-08\n",
      "iter: 950   loss: 0.0522 -1.64e-11\n",
      "iter: 1000   loss: 0.0522 -2.92e-12\n",
      "iter: 1050   loss: 0.0522 -3.33e-16\n",
      "iter: 1100   loss: 0.0522 1.58e-13\n",
      "iter: 1150   loss: 0.0530 8.01e-04\n",
      "iter: 1200   loss: 0.0522 -8.00e-04\n",
      "iter: 1250   loss: 0.0522 -6.29e-07\n",
      "iter: 1300   loss: 0.0522 -9.96e-09\n",
      "iter: 1350   loss: 0.0522 -9.61e-10\n",
      "iter: 1400   loss: 0.0522 -2.74e-13\n",
      "iter: 1450   loss: 0.0522 -5.55e-16\n",
      "iter: 1500   loss: 0.0522 1.83e-12\n",
      "iter: 1550   loss: 0.0523 6.20e-05\n",
      "iter: 1600   loss: 0.0522 -6.20e-05\n",
      "iter: 1650   loss: 0.0522 -8.14e-09\n",
      "iter: 1700   loss: 0.0537 1.52e-03\n",
      "iter: 1750   loss: 0.0529 -7.85e-04\n",
      "iter: 1800   loss: 0.0522 -7.34e-04\n",
      "iter: 1850   loss: 0.0522 -1.05e-06\n",
      "iter: 1900   loss: 0.0562 4.02e-03\n",
      "iter: 1950   loss: 0.0523 -3.88e-03\n",
      "iter: 2000   loss: 0.0522 -1.38e-04\n",
      "iter: 2050   loss: 0.0522 -2.39e-07\n",
      "iter: 2100   loss: 0.0522 -3.72e-08\n",
      "iter: 2150   loss: 0.0522 1.43e-05\n",
      "iter: 2200   loss: 0.0522 -1.43e-05\n",
      "iter: 2250   loss: 0.0522 -3.24e-09\n",
      "iter: 2300   loss: 0.0522 3.72e-05\n",
      "iter: 2350   loss: 0.0522 1.54e-06\n",
      "iter: 2400   loss: 0.0522 -3.87e-05\n",
      "iter: 2450   loss: 0.0522 -4.30e-08\n",
      "iter: 2500   loss: 0.0604 8.19e-03\n",
      "iter: 2550   loss: 0.0526 -7.81e-03\n",
      "iter: 2600   loss: 0.0522 -3.81e-04\n",
      "iter: 2650   loss: 0.0522 -2.00e-07\n",
      "iter: 2700   loss: 0.0535 1.33e-03\n",
      "iter: 2750   loss: 0.0523 -1.21e-03\n",
      "iter: 2800   loss: 0.0522 -1.18e-04\n",
      "iter: 2850   loss: 0.0522 -2.48e-07\n",
      "iter: 2900   loss: 0.0522 9.05e-06\n",
      "iter: 2950   loss: 0.0525 2.68e-04\n",
      "iter: 3000   loss: 0.0522 -2.77e-04\n",
      "iter: 3050   loss: 0.0522 -1.08e-07\n",
      "iter: 3100   loss: 0.0522 2.13e-07\n",
      "iter: 3150   loss: 0.0525 2.71e-04\n",
      "iter: 3200   loss: 0.0522 -2.71e-04\n",
      "iter: 3250   loss: 0.0522 -1.11e-08\n",
      "iter: 3300   loss: 0.0522 1.71e-06\n",
      "iter: 3350   loss: 0.0523 7.74e-05\n",
      "iter: 3400   loss: 0.0522 -7.90e-05\n",
      "iter: 3450   loss: 0.0522 -8.19e-08\n",
      "iter: 3500   loss: 0.0524 1.86e-04\n",
      "iter: 3550   loss: 0.0523 -9.68e-05\n",
      "iter: 3600   loss: 0.0522 -8.92e-05\n",
      "iter: 3650   loss: 0.0522 -5.29e-08\n",
      "iter: 3700   loss: 0.2874 2.35e-01\n",
      "iter: 3750   loss: 0.0534 -2.34e-01\n",
      "iter: 3800   loss: 0.0522 -1.23e-03\n",
      "iter: 3850   loss: 0.0522 -1.50e-06\n",
      "iter: 3900   loss: 0.0522 -1.11e-07\n",
      "iter: 3950   loss: 0.0522 2.28e-07\n",
      "iter: 4000   loss: 0.0522 -2.36e-07\n",
      "iter: 4050   loss: 0.0522 -7.74e-13\n",
      "iter: 4100   loss: 0.0523 9.97e-05\n",
      "iter: 4150   loss: 0.0524 1.26e-04\n",
      "iter: 4200   loss: 0.0522 -2.26e-04\n",
      "iter: 4250   loss: 0.0522 -2.39e-07\n",
      "iter: 4300   loss: 0.0522 2.51e-07\n",
      "iter: 4350   loss: 0.0523 6.75e-05\n",
      "iter: 4400   loss: 0.0522 -6.77e-05\n",
      "iter: 4450   loss: 0.0522 -1.01e-08\n",
      "iter: 4500   loss: 0.0523 7.49e-05\n",
      "iter: 4550   loss: 0.0522 -6.44e-05\n",
      "iter: 4600   loss: 0.0522 -1.04e-05\n",
      "iter: 4650   loss: 0.0522 -1.37e-07\n",
      "iter: 4700   loss: 0.0538 1.56e-03\n",
      "iter: 4750   loss: 0.0523 -1.41e-03\n",
      "iter: 4800   loss: 0.0522 -1.42e-04\n",
      "iter: 4850   loss: 0.0522 -1.64e-07\n",
      "iter: 4900   loss: 0.0522 -5.34e-10\n",
      "iter: 4950   loss: 0.0522 -5.31e-12\n",
      "iter: 5000   loss: 0.0522 -4.65e-13\n"
     ]
    },
    {
     "data": {
      "text/plain": [
       "0.05219339151955149"
      ]
     },
     "execution_count": null,
     "metadata": {},
     "output_type": "execute_result"
    }
   ],
   "source": [
    "def circuit(theta):\r\n",
    "    conts = [(1,2), (1,2), (0,1), (0,2), (0,1)]\r\n",
    "    cir = VariableCircuit(n, theta, conts)\r\n",
    "    return cir\r\n",
    "\r\n",
    "net = Net(n, 15)\r\n",
    "cir = circuit(net.theta)\r\n",
    "print(cir.complexity)\r\n",
    "opt = Optimizer(net, LR)\r\n",
    "opt.train(ITR, threshold=1e-20)"
   ]
  },
  {
   "cell_type": "code",
   "execution_count": null,
   "metadata": {
    "collapsed": false
   },
   "outputs": [
    {
     "name": "stdout",
     "output_type": "stream",
     "text": [
      "优化后的参数 theta:\n",
      " [3.42269108e-01 4.99999811e-01 4.99999904e-01 1.77098571e+00\n",
      " 1.77098562e+00 1.92208134e+00 6.02804621e-01 1.34248397e+00\n",
      " 1.06320314e-08 4.75030599e-08 6.93689542e-01 2.40332592e-01\n",
      " 7.11078059e-01 4.51877705e-01 1.65428654e+00]\n"
     ]
    }
   ],
   "source": [
    "theta_opt = net.theta.numpy()\r\n",
    "theta_opt = np.mod(theta_opt, 2 * np.pi)\r\n",
    "print(\"优化后的参数 theta:\\n\", theta_opt / np.pi)\r\n",
    "\r\n",
    "cir = circuit(net.theta)\r\n",
    "cir.output('Question_4_Answer.txt')"
   ]
  },
  {
   "cell_type": "markdown",
   "metadata": {
    "collapsed": false
   },
   "source": [
    "### 第五题 四量子比特门无结构分解\n",
    "基于思路1，网状结构添加控制门  "
   ]
  },
  {
   "cell_type": "code",
   "execution_count": null,
   "metadata": {
    "collapsed": false
   },
   "outputs": [],
   "source": [
    "n = 4\r\n",
    "target = np.loadtxt('/home/aistudio/data/target/Question_5_Unitary.txt')\r\n",
    "target_tensor = paddle.to_tensor(target)\r\n",
    "LR = 0.1\r\n",
    "ITR = 1000\r\n",
    "\r\n",
    "def circuit(theta):\r\n",
    "    conts = [(1, 2)] #开头(1, 2)和结尾(3, 0)为尝试过程中最优结构的开头和结尾\r\n",
    "    for i in range(7):\r\n",
    "        for j in range(i%2, n, 2):\r\n",
    "            conts.append((j%n, (j+1)%n))\r\n",
    "    conts.append((3, 0))\r\n",
    "    cir = VariableCircuit(n, theta, conts)\r\n",
    "    return cir"
   ]
  },
  {
   "cell_type": "code",
   "execution_count": null,
   "metadata": {
    "collapsed": false
   },
   "outputs": [
    {
     "name": "stdout",
     "output_type": "stream",
     "text": [
      "iter:  50   loss: 0.5351 -4.65e-01\n",
      "iter: 100   loss: 0.4121 -1.23e-01\n",
      "iter: 150   loss: 0.4038 -8.28e-03\n",
      "iter: 200   loss: 0.4016 -2.17e-03\n",
      "iter: 250   loss: 0.3978 -3.86e-03\n",
      "iter: 300   loss: 0.3492 -4.86e-02\n",
      "iter: 350   loss: 0.3282 -2.10e-02\n"
     ]
    }
   ],
   "source": [
    "while 1: #循环运行直至满足及格条件\r\n",
    "    net = Net(n, 36)\r\n",
    "    opt = Optimizer(net, LR)\r\n",
    "    l = opt.train(ITR)\r\n",
    "    if l < 0.3:\r\n",
    "        break"
   ]
  },
  {
   "cell_type": "code",
   "execution_count": null,
   "metadata": {
    "collapsed": false
   },
   "outputs": [],
   "source": [
    "theta_opt = net.theta.numpy()\r\n",
    "print(\"优化后的参数 theta:\\n\", theta_opt)\r\n",
    "\r\n",
    "cir = circuit(net.theta)\r\n",
    "cir.output('Question_5_Answer.txt')"
   ]
  },
  {
   "cell_type": "code",
   "execution_count": null,
   "metadata": {
    "collapsed": false
   },
   "outputs": [],
   "source": [
    "theta_opt = net.theta.numpy()\r\n",
    "print(\"优化后的参数 theta:\\n\", theta_opt)\r\n",
    "\r\n",
    "cir = circuit(net.theta)\r\n",
    "cir.output('Question_6_Answer.txt')"
   ]
  },
  {
   "cell_type": "markdown",
   "metadata": {
    "collapsed": false
   },
   "source": [
    "### 打包结果"
   ]
  },
  {
   "cell_type": "code",
   "execution_count": null,
   "metadata": {
    "collapsed": false
   },
   "outputs": [],
   "source": [
    "!zip Answer.zip Question_?_Answer.txt"
   ]
  }
 ],
 "metadata": {
  "kernelspec": {
   "display_name": "PaddlePaddle 2.0.0b0 (Python 3.5)",
   "language": "python",
   "name": "py35-paddle1.2.0"
  },
  "language_info": {
   "codemirror_mode": {
    "name": "ipython",
    "version": 3
   },
   "file_extension": ".py",
   "mimetype": "text/x-python",
   "name": "python",
   "nbconvert_exporter": "python",
   "pygments_lexer": "ipython3",
   "version": "3.7.4"
  }
 },
 "nbformat": 4,
 "nbformat_minor": 1
}
